{
 "cells": [
  {
   "cell_type": "code",
   "execution_count": 1,
   "metadata": {},
   "outputs": [],
   "source": [
    "import numpy as np\n",
    "import pyquaternion"
   ]
  },
  {
   "cell_type": "markdown",
   "metadata": {},
   "source": [
    "Trabajo basado en: \n",
    "Y. Zu, C. Sun and R. Dai, \"Distributed estimation for spatial rigid motion based on dual quaternions,\" 53rd IEEE Conference on Decision and Control, Los Angeles, CA, 2014, pp. 334-339.\n",
    "\n",
    "Se puede encontrar aqui: https://ieeexplore.ieee.org/document/7039403"
   ]
  },
  {
   "cell_type": "code",
   "execution_count": null,
   "metadata": {},
   "outputs": [],
   "source": [
    "def matriz_F(k):\n",
    "    #Poner aqui la matriz F en función de los parametros que sean.\n",
    "    #Las matriz F es la que relaciona las variables en k+1 con las variables\n",
    "    #en k. xk+1 = Fk*xk + wk\n",
    "    #wk es ruido Gaussiano con media 0 y matriz de covarianza Q.\n",
    "    #Creo que podemos usar la que ya esta calculada en el articulo que \n",
    "    #vimos inicialmente con el modelo del submarino (el del MPC)\n",
    "    return k\n",
    "\n",
    "def grad_f(param):\n",
    "    #Poner aqui para encontrar el gradiente de f.\n",
    "    #Es algo todo largo con muchas matrices y cosas\n",
    "    return param\n",
    "\n",
    "def hessiana_f(param):\n",
    "    #Poner aqui para encontrar la hessiana de f.\n",
    "    #Tambien es algo todo largo con varias matrices\n",
    "    return param\n",
    "\n",
    "def w(param):\n",
    "    #Este vector es el que hace todo distribuido.\n",
    "    #Poner aqui como se calcula\n",
    "    return param"
   ]
  }
 ],
 "metadata": {
  "kernelspec": {
   "display_name": "Python 3",
   "language": "python",
   "name": "python3"
  },
  "language_info": {
   "codemirror_mode": {
    "name": "ipython",
    "version": 3
   },
   "file_extension": ".py",
   "mimetype": "text/x-python",
   "name": "python",
   "nbconvert_exporter": "python",
   "pygments_lexer": "ipython3",
   "version": "3.6.9"
  }
 },
 "nbformat": 4,
 "nbformat_minor": 4
}
